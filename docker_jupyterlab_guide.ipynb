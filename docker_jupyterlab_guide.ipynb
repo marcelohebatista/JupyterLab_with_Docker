{
 "cells": [
  {
   "cell_type": "markdown",
   "metadata": {},
   "source": [
    "# Guia Completo para Executar um Contêiner Docker com JupyterLab\n",
    "\n",
    "Este notebook fornece uma explicação detalhada sobre como executar um contêiner Docker usando a imagem `jupyter/datascience-notebook` e como acessar o JupyterLab. Vamos explorar cada parte do comando Docker e entender sua funcionalidade."
   ]
  },
  {
   "cell_type": "markdown",
   "metadata": {},
   "source": [
    "## 1. Introdução\n",
    "\n",
    "O Docker é uma plataforma que permite criar, implantar e executar aplicativos em contêineres. \n",
    "\n",
    "Um contêiner é uma unidade leve e portátil que inclui tudo o que é necessário para executar um aplicativo, incluindo o código, as bibliotecas e as dependências.\n",
    "\n",
    "Neste guia, vamos usar a imagem `jupyter/datascience-notebook`.\n",
    "\n",
    "Para mais informações sobre a imagem - [jupyter/datascience-notebook](https://hub.docker.com/r/jupyter/datascience-notebook), que contém um conjunto abrangente de ferramentas e bibliotecas para ciência de dados em Python, Julia e R."
   ]
  },
  {
   "cell_type": "markdown",
   "metadata": {},
   "source": [
    "## 2. Explicação do Comando Docker\n",
    "\n",
    "Vamos detalhar o comando Docker para entender cada parte:\n",
    "\n",
    "```plaintext\n",
    "docker run -u root --rm -e GRANT_SUDO=yes -e NB_GID=100 -p 8888:8888 -e JUPYTER_ENABLE_LAB=yes -v \"$PWD\":/home/jovyan/work jupyter/datascience-notebook start-notebook.sh --NotebookApp.token='python'\n",
    "```\n",
    "\n",
    "### 2.1 `docker run`\n",
    "Este é o comando básico do Docker usado para criar e iniciar um novo contêiner.\n",
    "\n",
    "### 2.2 `-u root`\n",
    "Executa o contêiner como usuário root. Isso é necessário para certas operações que exigem privilégios de root, como a instalação de pacotes adicionais do sistema.\n",
    "\n",
    "### 2.3 `--rm`\n",
    "Remove automaticamente o contêiner quando ele é encerrado. Isso é útil para não deixar contêineres parados para trás.\n",
    "\n",
    "### 2.4 `-e GRANT_SUDO=yes`\n",
    "Define a variável de ambiente `GRANT_SUDO` como \"yes\". Quando executado como um usuário não-root (neste caso, `jovyan`), isso permite que o usuário execute comandos como root usando `sudo`, desde que o contêiner tenha sido iniciado com `-u root`.\n",
    "\n",
    "### 2.5 `-e NB_GID=100`\n",
    "Define a variável de ambiente `NB_GID` como \"100\". Isso altera o ID do grupo do usuário `jovyan` para 100, o que pode ser útil para corresponder permissões com arquivos no sistema host.\n",
    "\n",
    "### 2.6 `-p 8888:8888`\n",
    "Mapeia a porta 8888 do contêiner para a porta 8888 no host. Isso é necessário para acessar a interface do JupyterLab a partir do seu navegador.\n",
    "\n",
    "### 2.7 `-e JUPYTER_ENABLE_LAB=yes`\n",
    "Habilita a interface do JupyterLab por padrão. O JupyterLab é a interface web de próxima geração para o Projeto Jupyter.\n",
    "\n",
    "### 2.8 `-v \"$PWD\":/home/jovyan/work`\n",
    "Monta o diretório de trabalho atual (`$PWD`) do host em `/home/jovyan/work` dentro do contêiner. Isso permite o compartilhamento de arquivos entre o host e o contêiner.\n",
    "\n",
    "### 2.9 `jupyter/datascience-notebook`\n",
    "Especifica a imagem Docker a ser usada. Esta imagem contém uma coleção abrangente de ferramentas e bibliotecas de ciência de dados para Python, Julia e R.\n",
    "\n",
    "### 2.10 `start-notebook.sh`\n",
    "O comando para iniciar o servidor Jupyter Notebook. Este script faz parte da imagem `jupyter/datascience-notebook` e lida com a inicialização do servidor.\n",
    "\n",
    "### 2.11 `--NotebookApp.token='python'`\n",
    "Define o token inicial para o servidor Jupyter Notebook. Este token é necessário para acessar o servidor de notebooks pela primeira vez. Neste caso, o token é definido como \"python\"."
   ]
  },
  {
   "cell_type": "markdown",
   "metadata": {},
   "source": [
    "## 3. Execução do Comando Docker\n",
    "\n",
    "Para executar o comando Docker, abra um terminal e digite o seguinte comando:\n",
    "\n",
    "```bash\n",
    "docker run -u root --rm -e GRANT_SUDO=yes -e NB_GID=100 -p 8888:8888 -e JUPYTER_ENABLE_LAB=yes -v \"$PWD\":/home/jovyan/work jupyter/datascience-notebook start-notebook.sh --NotebookApp.token='python'\n",
    "```\n",
    "\n",
    "Este comando iniciará um contêiner Docker com a imagem `jupyter/datascience-notebook` e configurará o JupyterLab conforme descrito anteriormente."
   ]
  },
  {
   "cell_type": "markdown",
   "metadata": {},
   "source": [
    "## 4. Acessando o JupyterLab\n",
    "\n",
    "Após executar o comando Docker, você verá uma saída no terminal indicando que o servidor JupyterLab foi iniciado. Para acessar o JupyterLab, abra um navegador da web e vá para o seguinte endereço:\n",
    "\n",
    "```\n",
    "http://localhost:8888\n",
    "```\n",
    "\n",
    "Você será solicitado a inserir um token. Use o token definido no comando Docker, que neste caso é \"python\"."
   ]
  },
  {
   "cell_type": "markdown",
   "metadata": {},
   "source": [
    "## 5. Conclusão\n",
    "\n",
    "Neste notebook, exploramos como executar um contêiner Docker usando a imagem `jupyter/datascience-notebook` e como acessar o JupyterLab. Este comando é uma ferramenta poderosa para cientistas de dados que desejam rapidamente configurar um ambiente de desenvolvimento com todas as ferramentas e bibliotecas necessárias.\n",
    "\n",
    "Esperamos que este guia tenha sido útil e que você aproveite ao máximo o JupyterLab para suas análises de dados!"
   ]
  }
 ],
 "metadata": {
  "kernelspec": {
   "display_name": "Python 3 (ipykernel)",
   "language": "python",
   "name": "python3"
  },
  "language_info": {
   "codemirror_mode": {
    "name": "ipython",
    "version": 3
   },
   "file_extension": ".py",
   "mimetype": "text/x-python",
   "name": "python",
   "nbconvert_exporter": "python",
   "pygments_lexer": "ipython3",
   "version": "3.11.6"
  }
 },
 "nbformat": 4,
 "nbformat_minor": 4
}
